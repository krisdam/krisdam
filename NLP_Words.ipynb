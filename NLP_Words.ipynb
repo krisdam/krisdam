{
  "nbformat": 4,
  "nbformat_minor": 0,
  "metadata": {
    "colab": {
      "provenance": [],
      "authorship_tag": "ABX9TyO87BA+DcuCezosNz6lBmJh",
      "include_colab_link": true
    },
    "kernelspec": {
      "name": "python3",
      "display_name": "Python 3"
    },
    "language_info": {
      "name": "python"
    }
  },
  "cells": [
    {
      "cell_type": "markdown",
      "metadata": {
        "id": "view-in-github",
        "colab_type": "text"
      },
      "source": [
        "<a href=\"https://colab.research.google.com/github/krisdam/krisdam/blob/main/NLP_Words.ipynb\" target=\"_parent\"><img src=\"https://colab.research.google.com/assets/colab-badge.svg\" alt=\"Open In Colab\"/></a>"
      ]
    },
    {
      "cell_type": "code",
      "execution_count": null,
      "metadata": {
        "id": "0tFYLWWfsde2"
      },
      "outputs": [],
      "source": []
    },
    {
      "cell_type": "code",
      "source": [
        "import nltk\n",
        "from nltk.stem import PorterStemmer, LancasterStemmer, SnowballStemmer, RegexpStemmer\n",
        "from nltk.tokenize import word_tokenize\n",
        "nltk.download('punkt_tab')\n",
        "# Sample text documents\n",
        "documents = [\n",
        "    \"I saw Santa at the big building today along wiht a bunch of other people.\",\n",
        "    \"There was a lot of traffic on the way to that place in the evening.\",\n",
        "    \"Running helps to build stamina and strength.\",\n",
        "    \"He ran swiftly and caught the ball.\"\n",
        "]\n",
        "\n",
        "# Initialize stemmers\n",
        "porter_stemmer = PorterStemmer()\n",
        "lancaster_stemmer = LancasterStemmer()\n",
        "snowball_stemmer = SnowballStemmer(\"english\")\n",
        "\n",
        "# Define a simple regex for stemming (this can be customized)\n",
        "regex_pattern = r'(ing|ed|es|s)$'\n",
        "regex_stemmer = RegexpStemmer(regex_pattern)"
      ],
      "metadata": {
        "id": "1Cev29GiHY1a",
        "outputId": "925b7070-87c0-4778-e6ca-9bd8847d0ac3",
        "colab": {
          "base_uri": "https://localhost:8080/"
        }
      },
      "execution_count": 1,
      "outputs": [
        {
          "output_type": "stream",
          "name": "stderr",
          "text": [
            "[nltk_data] Downloading package punkt_tab to /root/nltk_data...\n",
            "[nltk_data]   Unzipping tokenizers/punkt_tab.zip.\n"
          ]
        }
      ]
    },
    {
      "cell_type": "code",
      "source": [
        "# Function to apply different stemmers\n",
        "def apply_stemmers(documents):\n",
        "    results = {}\n",
        "\n",
        "    for doc in documents:\n",
        "        # Tokenize the document\n",
        "        tokens = word_tokenize(doc.lower())\n",
        "\n",
        "        # Apply different stemmers\n",
        "        porter_stems = [porter_stemmer.stem(token) for token in tokens]\n",
        "        lancaster_stems = [lancaster_stemmer.stem(token) for token in tokens]\n",
        "        snowball_stems = [snowball_stemmer.stem(token) for token in tokens]\n",
        "        regex_stems = [regex_stemmer.stem(token) for token in tokens]\n",
        "\n",
        "        # Store results\n",
        "        results[doc] = {\n",
        "            'porter': porter_stems,\n",
        "            'lancaster': lancaster_stems,\n",
        "            'snowball': snowball_stems,\n",
        "            'regex': regex_stems\n",
        "        }\n",
        "\n",
        "    return results\n",
        "\n",
        "# Apply the stemmers to the sample documents\n",
        "stemmed_results = apply_stemmers(documents)\n",
        "\n",
        "# Print the results\n",
        "for original_doc, stems in stemmed_results.items():\n",
        "    print(f\"\\nOriginal Document: {original_doc}\")\n",
        "    for stemmer_name, stemmed_words in stems.items():\n",
        "        print(f\"{stemmer_name.capitalize()} Stems: {stemmed_words}\")\n"
      ],
      "metadata": {
        "colab": {
          "base_uri": "https://localhost:8080/"
        },
        "id": "ZLQcBlehsu8X",
        "outputId": "1f3b9d9a-c027-4033-c11d-b14362152c05"
      },
      "execution_count": 2,
      "outputs": [
        {
          "output_type": "stream",
          "name": "stdout",
          "text": [
            "\n",
            "Original Document: I saw Santa at the big building today along wiht a bunch of other people.\n",
            "Porter Stems: ['i', 'saw', 'santa', 'at', 'the', 'big', 'build', 'today', 'along', 'wiht', 'a', 'bunch', 'of', 'other', 'peopl', '.']\n",
            "Lancaster Stems: ['i', 'saw', 'sant', 'at', 'the', 'big', 'build', 'today', 'along', 'wiht', 'a', 'bunch', 'of', 'oth', 'peopl', '.']\n",
            "Snowball Stems: ['i', 'saw', 'santa', 'at', 'the', 'big', 'build', 'today', 'along', 'wiht', 'a', 'bunch', 'of', 'other', 'peopl', '.']\n",
            "Regex Stems: ['i', 'saw', 'santa', 'at', 'the', 'big', 'build', 'today', 'along', 'wiht', 'a', 'bunch', 'of', 'other', 'people', '.']\n",
            "\n",
            "Original Document: There was a lot of traffic on the way to that place in the evening.\n",
            "Porter Stems: ['there', 'wa', 'a', 'lot', 'of', 'traffic', 'on', 'the', 'way', 'to', 'that', 'place', 'in', 'the', 'even', '.']\n",
            "Lancaster Stems: ['ther', 'was', 'a', 'lot', 'of', 'traff', 'on', 'the', 'way', 'to', 'that', 'plac', 'in', 'the', 'ev', '.']\n",
            "Snowball Stems: ['there', 'was', 'a', 'lot', 'of', 'traffic', 'on', 'the', 'way', 'to', 'that', 'place', 'in', 'the', 'even', '.']\n",
            "Regex Stems: ['there', 'wa', 'a', 'lot', 'of', 'traffic', 'on', 'the', 'way', 'to', 'that', 'place', 'in', 'the', 'even', '.']\n",
            "\n",
            "Original Document: Running helps to build stamina and strength.\n",
            "Porter Stems: ['run', 'help', 'to', 'build', 'stamina', 'and', 'strength', '.']\n",
            "Lancaster Stems: ['run', 'help', 'to', 'build', 'stamin', 'and', 'strength', '.']\n",
            "Snowball Stems: ['run', 'help', 'to', 'build', 'stamina', 'and', 'strength', '.']\n",
            "Regex Stems: ['runn', 'help', 'to', 'build', 'stamina', 'and', 'strength', '.']\n",
            "\n",
            "Original Document: He ran swiftly and caught the ball.\n",
            "Porter Stems: ['he', 'ran', 'swiftli', 'and', 'caught', 'the', 'ball', '.']\n",
            "Lancaster Stems: ['he', 'ran', 'swift', 'and', 'caught', 'the', 'bal', '.']\n",
            "Snowball Stems: ['he', 'ran', 'swift', 'and', 'caught', 'the', 'ball', '.']\n",
            "Regex Stems: ['he', 'ran', 'swiftly', 'and', 'caught', 'the', 'ball', '.']\n"
          ]
        }
      ]
    },
    {
      "cell_type": "code",
      "source": [
        "import nltk\n",
        "from nltk.tokenize import word_tokenize\n",
        "from nltk.stem import WordNetLemmatizer\n",
        "nltk.download('punkt_tab')\n",
        "nltk.download('wordnet')\n",
        "\n",
        "\n",
        "# Sample text documents\n",
        "documents = [\n",
        "    \"The cats are running and jumping in the garden.\",\n",
        "    \"She is a beautiful runner and loves to run fast.\",\n",
        "    \"Running helps to build stamina and strength.\",\n",
        "    \"He ran swiftly and caught the ball.\"\n",
        "]\n",
        "\n",
        "# Initialize the WordNet Lemmatizer\n",
        "lemmatizer = WordNetLemmatizer()\n",
        "\n",
        "# Function to apply lemmatization\n",
        "def apply_lemmatization(doc):\n",
        "    # Tokenize the document\n",
        "    tokens = word_tokenize(doc)\n",
        "\n",
        "    # Apply lemmatization to each token\n",
        "    lemmatized_tokens = [lemmatizer.lemmatize(token,pos='v') for token in tokens]\n",
        "\n",
        "    return {\n",
        "        \"original\": tokens,\n",
        "        \"lemmatized\": lemmatized_tokens\n",
        "    }\n",
        "\n",
        "# Process each document and print results\n",
        "for doc in documents:\n",
        "    results = apply_lemmatization(doc)\n",
        "    print(f\"Original Document: {results['original']}\")\n",
        "    print(f\"Lemmatized: {results['lemmatized']}\")\n",
        "    print(\"-\" * 40)"
      ],
      "metadata": {
        "colab": {
          "base_uri": "https://localhost:8080/"
        },
        "id": "LVz4GZJMs4gy",
        "outputId": "f30963d3-3176-47dc-9261-d497566a069d"
      },
      "execution_count": 3,
      "outputs": [
        {
          "output_type": "stream",
          "name": "stderr",
          "text": [
            "[nltk_data] Downloading package punkt_tab to /root/nltk_data...\n",
            "[nltk_data]   Package punkt_tab is already up-to-date!\n",
            "[nltk_data] Downloading package wordnet to /root/nltk_data...\n"
          ]
        },
        {
          "output_type": "stream",
          "name": "stdout",
          "text": [
            "Original Document: ['The', 'cats', 'are', 'running', 'and', 'jumping', 'in', 'the', 'garden', '.']\n",
            "Lemmatized: ['The', 'cat', 'be', 'run', 'and', 'jump', 'in', 'the', 'garden', '.']\n",
            "----------------------------------------\n",
            "Original Document: ['She', 'is', 'a', 'beautiful', 'runner', 'and', 'loves', 'to', 'run', 'fast', '.']\n",
            "Lemmatized: ['She', 'be', 'a', 'beautiful', 'runner', 'and', 'love', 'to', 'run', 'fast', '.']\n",
            "----------------------------------------\n",
            "Original Document: ['Running', 'helps', 'to', 'build', 'stamina', 'and', 'strength', '.']\n",
            "Lemmatized: ['Running', 'help', 'to', 'build', 'stamina', 'and', 'strength', '.']\n",
            "----------------------------------------\n",
            "Original Document: ['He', 'ran', 'swiftly', 'and', 'caught', 'the', 'ball', '.']\n",
            "Lemmatized: ['He', 'run', 'swiftly', 'and', 'catch', 'the', 'ball', '.']\n",
            "----------------------------------------\n"
          ]
        }
      ]
    },
    {
      "cell_type": "code",
      "source": [],
      "metadata": {
        "id": "xc_QKIeHs44m"
      },
      "execution_count": null,
      "outputs": []
    }
  ]
}